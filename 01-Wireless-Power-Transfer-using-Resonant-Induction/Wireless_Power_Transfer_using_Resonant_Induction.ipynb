{
  "nbformat": 4,
  "nbformat_minor": 0,
  "metadata": {
    "colab": {
      "provenance": []
    },
    "kernelspec": {
      "name": "python3",
      "display_name": "Python 3"
    },
    "language_info": {
      "name": "python"
    }
  },
  "cells": [
    {
      "cell_type": "markdown",
      "source": [
        "# Wireless Power Transfer using Resonant Induction ⟹ B.Tech Final Project"
      ],
      "metadata": {
        "id": "F6dfM34sf_l1"
      }
    },
    {
      "cell_type": "markdown",
      "source": [
        "![rainbow](https://github.com/ancilcleetus/My-Learning-Journey/assets/25684256/839c3524-2a1d-4779-85a0-83c562e1e5e5)"
      ],
      "metadata": {
        "id": "D0XaQAZ-g549"
      }
    },
    {
      "cell_type": "markdown",
      "source": [
        "# 📖 TABLE OF CONTENTS\n",
        "\n",
        "- [1. Project Description]()\n",
        "- [2. Intro to Wireless Power Transfer (WPT)]()\n",
        "  - [Methods of Wireless Power Transfer]()\n",
        "    - [1. Inductive Coupling]()\n",
        "    - [2. Resonant Inductive Coupling]()\n",
        "    - [3. Capacitive Coupling]()\n",
        "    - [4. Microwave Power Transmission]()\n",
        "    - [5. Laser Power Transmission]()\n",
        "  - [Comparison of Wireless Power Transfer Methods]()\n",
        "  - [Conclusion]()\n",
        "- [3. Selection of Wireless Power Transfer Method]()\n",
        "  - [Justifications for Selecting Resonant Inductive Coupling]()\n",
        "- [4. Electromagnetic Field Regions]()\n",
        "  - [Types of Electromagnetic Field Regions]()\n",
        "    - [1. Near-Field Region]()\n",
        "    - [2. Far-Field Region]()\n",
        "  - [Comparison of Near-Field and Far-Field Regions]()\n",
        "  - [Why Near-Field Regions are Non-Radiative?]()\n",
        "  - [Why Far-Field Regions are Radiative?]()\n",
        "- [5. Wireless Power Transfer using Resonant Inductive Coupling]()\n",
        "  - [How It Works]()\n",
        "  - [Advantages of Resonant Inductive Coupling]()\n",
        "  - [Applications]()\n",
        "- [6. How does the Superposition of Evanescent Fields facilitate energy transfer?]()\n",
        "  - [Understanding Evanescent Waves]()\n",
        "  - [Role of Evanescent Waves in Energy Transfer]()\n",
        "- [7. Design of Wireless Power Transfer Demonstrator]()\n",
        "  - [Circuit Overview]()\n",
        "  - [Design Justifications]()\n",
        "- [8. Results]()\n",
        "  - [Key Achievements]()\n",
        "- [9. Conclusion]()\n",
        "- [10. References]()"
      ],
      "metadata": {
        "id": "tkmc9HegeeVh"
      }
    },
    {
      "cell_type": "markdown",
      "source": [
        "![rainbow](https://github.com/ancilcleetus/My-Learning-Journey/assets/25684256/839c3524-2a1d-4779-85a0-83c562e1e5e5)"
      ],
      "metadata": {
        "id": "uqJe38AnDj_4"
      }
    },
    {
      "cell_type": "markdown",
      "source": [
        "# 1. Project Description"
      ],
      "metadata": {
        "id": "bKim3KwyTp11"
      }
    },
    {
      "cell_type": "markdown",
      "source": [
        "**Objective:** Implementation of a non-radiative wireless power transfer method that can be extended for wireless charging of portable devices like mobile phones, MP3 players etc.\n",
        "\n",
        "**Role:** Hardware Design, **Development Team Size:** 1\n",
        "\n",
        "**Tools:** LTSpice IV, Eagle CAD\n",
        "\n",
        "**Challenges:**\n",
        "\n",
        "1. Selection of frequencies for creating resonance\n",
        "2. Selection of copper tubes to act as inductors\n",
        "3. Selection of special capacitors\n",
        "\n",
        "**Outcome:** Demonstrated wireless power transfer successfully over a range of 13 cm by lighting a bulb of 6W"
      ],
      "metadata": {
        "id": "9zXSn5Xv_4mu"
      }
    },
    {
      "cell_type": "markdown",
      "source": [
        "![rainbow](https://github.com/ancilcleetus/My-Learning-Journey/assets/25684256/839c3524-2a1d-4779-85a0-83c562e1e5e5)"
      ],
      "metadata": {
        "id": "GcgOpnJmi1Sm"
      }
    },
    {
      "cell_type": "markdown",
      "source": [
        "# 2. Intro to Wireless Power Transfer (WPT)"
      ],
      "metadata": {
        "id": "Fh6BorNKi1Ss"
      }
    },
    {
      "cell_type": "markdown",
      "source": [
        "Wireless Power Transfer (WPT) encompasses various methods to transmit power without physical connections. Each method has its own principles, advantages, and limitations. Below are the primary methods of WPT explained in detail, followed by a comparative table."
      ],
      "metadata": {
        "id": "Hp7qEPQpje5_"
      }
    },
    {
      "cell_type": "markdown",
      "source": [
        "## Methods of Wireless Power Transfer"
      ],
      "metadata": {
        "id": "r4-si-dMjid7"
      }
    },
    {
      "cell_type": "markdown",
      "source": [
        "### 1. Inductive Coupling"
      ],
      "metadata": {
        "id": "4BP-8MJwjoTG"
      }
    },
    {
      "cell_type": "markdown",
      "source": [
        "**Definition:** Inductive coupling uses electromagnetic fields to transfer power between two coils—one acting as a transmitter and the other as a receiver.\n",
        "\n",
        "**How It Works:**\n",
        "\n",
        "- An alternating current flows through the transmitter coil, generating a magnetic field.\n",
        "- This magnetic field induces a current in the nearby receiver coil when they are aligned closely.\n",
        "- The efficiency drops significantly with increased distance between the coils.\n",
        "\n",
        "**Applications:** Commonly used in wireless charging pads for smartphones, electric toothbrushes, and RFID systems."
      ],
      "metadata": {
        "id": "so6nJpBZkRM5"
      }
    },
    {
      "cell_type": "markdown",
      "source": [
        "### 2. Resonant Inductive Coupling"
      ],
      "metadata": {
        "id": "MQXEcNLtjt6S"
      }
    },
    {
      "cell_type": "markdown",
      "source": [
        "**Definition:** This is an advanced form of inductive coupling that enhances efficiency by tuning both the transmitter and receiver coils to resonate at the same frequency.\n",
        "\n",
        "**How It Works:**\n",
        "\n",
        "- Both coils are equipped with capacitors to create resonant circuits.\n",
        "- When tuned to the same frequency, they can transfer power over greater distances compared to standard inductive coupling.\n",
        "- This method allows for more flexibility in alignment and can transmit power effectively over several centimeters.\n",
        "\n",
        "**Applications:** Used in applications like electric vehicle charging and some consumer electronics."
      ],
      "metadata": {
        "id": "yk6hfNUNlRlD"
      }
    },
    {
      "cell_type": "markdown",
      "source": [
        "### 3. Capacitive Coupling"
      ],
      "metadata": {
        "id": "PM6vpSj3jyvU"
      }
    },
    {
      "cell_type": "markdown",
      "source": [
        "**Definition:** Capacitive coupling transmits power through electric fields generated between two conductive plates or electrodes.\n",
        "\n",
        "**How It Works:**\n",
        "\n",
        "- A high-frequency alternating current is applied to one plate, creating an electric field.\n",
        "- The second plate, positioned close enough, picks up this electric field and converts it back into electrical energy.\n",
        "- This method is effective only at very short distances and requires precise alignment of the plates.\n",
        "\n",
        "**Applications:** Often used in small devices like sensors and RFID tags."
      ],
      "metadata": {
        "id": "G3pKgkIllkrX"
      }
    },
    {
      "cell_type": "markdown",
      "source": [
        "### 4. Microwave Power Transmission"
      ],
      "metadata": {
        "id": "1akUyDOmjyvW"
      }
    },
    {
      "cell_type": "markdown",
      "source": [
        "**Definition:** This method uses microwaves to transmit power over longer distances than traditional coupling methods.\n",
        "\n",
        "**How It Works:**\n",
        "\n",
        "- A transmitter converts electrical energy into microwave radiation.\n",
        "- The microwaves travel through the air and are received by a specialized antenna that converts them back into electrical energy.\n",
        "- The efficiency depends on atmospheric conditions and line-of-sight between transmitter and receiver.\n",
        "\n",
        "**Applications:** Used for powering satellites, remote sensors, and potentially for large-scale applications like solar power satellites."
      ],
      "metadata": {
        "id": "YopUnxD7l0s9"
      }
    },
    {
      "cell_type": "markdown",
      "source": [
        "### 5. Laser Power Transmission"
      ],
      "metadata": {
        "id": "ufgzi1n9jzr6"
      }
    },
    {
      "cell_type": "markdown",
      "source": [
        "**Definition:** Laser power transmission uses focused light beams to deliver energy wirelessly.\n",
        "\n",
        "**How It Works:**\n",
        "\n",
        "- A laser beam is directed toward a photovoltaic cell that converts light into electrical energy.\n",
        "- This method can transmit power over long distances but requires precise alignment of the laser with the receiver.\n",
        "\n",
        "**Applications:** Used in applications requiring targeted energy delivery, such as powering drones or remote devices in hard-to-reach areas."
      ],
      "metadata": {
        "id": "ok3S-5wcmFM7"
      }
    },
    {
      "cell_type": "markdown",
      "source": [
        "## Comparison of Wireless Power Transfer Methods"
      ],
      "metadata": {
        "id": "imligB7SmPjw"
      }
    },
    {
      "cell_type": "markdown",
      "source": [
        "| Method | Principle | Distance Range | Efficiency | Applications |\n",
        "| :----- | :-------- | :------------- | :--------- | :----------- |\n",
        "| **Inductive Coupling** | Electromagnetic induction | Millimeters to centimeters | Moderate (up to 90%) | Smartphones, RFID tags |\n",
        "| **Resonant Inductive Coupling** | Enhanced inductive coupling | Several centimeters | High (up to 95%) | Electric vehicles, consumer electronics |\n",
        "| **Capacitive Coupling** | Electric fields | Millimeters | Low to moderate | Sensors, RFID |\n",
        "| **Microwave Power Transmission** | Microwave radiation | Several meters | Moderate (varies) | Satellites, remote sensors |\n",
        "| **Laser Power Transmission** | Focused light beams | Long distances (with alignment) | Moderate (depends on alignment) | Drones, remote devices |"
      ],
      "metadata": {
        "id": "4u3iTmR1mVuk"
      }
    },
    {
      "cell_type": "markdown",
      "source": [
        "## Conclusion"
      ],
      "metadata": {
        "id": "kPouj5jSn1iL"
      }
    },
    {
      "cell_type": "markdown",
      "source": [
        "Each method of Wireless Power Transfer has unique characteristics suited for different applications. Inductive coupling is widely used for short-range applications, while resonant inductive coupling extends efficiency over greater distances. Capacitive coupling is limited by distance but useful for small devices. Microwave and laser transmission methods offer potential for long-range applications but require precise alignment and may face environmental challenges. Understanding these methods helps in selecting the right technology for specific wireless power needs."
      ],
      "metadata": {
        "id": "jUy9COQvn-HJ"
      }
    },
    {
      "cell_type": "markdown",
      "source": [
        "![rainbow](https://github.com/ancilcleetus/My-Learning-Journey/assets/25684256/839c3524-2a1d-4779-85a0-83c562e1e5e5)"
      ],
      "metadata": {
        "id": "itliWR8IofSD"
      }
    },
    {
      "cell_type": "markdown",
      "source": [
        "# 3. Selection of Wireless Power Transfer Method"
      ],
      "metadata": {
        "id": "PUP9L-S8ofSJ"
      }
    },
    {
      "cell_type": "markdown",
      "source": [
        "For this project, Resonant Inductive Coupling has been selected as the method for Wireless Power Transfer (WPT). This choice is based on several justifications that align with the project's objective of implementing a non-radiative wireless power transfer system suitable for charging portable devices like mobile phones and MP3 players."
      ],
      "metadata": {
        "id": "jJBFQNs7vpl-"
      }
    },
    {
      "cell_type": "markdown",
      "source": [
        "## Justifications for Selecting Resonant Inductive Coupling"
      ],
      "metadata": {
        "id": "qWA6KCC6vxvi"
      }
    },
    {
      "cell_type": "markdown",
      "source": [
        "1. **Efficiency in Power Transfer:**\n",
        "    \n",
        "    Resonant inductive coupling allows for high efficiency in energy transfer, often exceeding 90%. By tuning both the transmitter and receiver to resonate at the same frequency, energy losses are minimized, making it ideal for applications where efficient power delivery is crucial.\n",
        "    \n",
        "2. **Flexible Distance Range:**\n",
        "    \n",
        "    This method supports effective power transfer over moderate distances (up to several centimeters), which is beneficial for practical applications like charging devices that may not always be perfectly aligned with the charging pad. The ability to charge multiple devices simultaneously without requiring physical contact enhances user convenience and flexibility.\n",
        "    \n",
        "3. **Safety and Non-Radiative Nature:**\n",
        "    \n",
        "    Resonant inductive coupling operates within the near-field region, which means it primarily utilizes magnetic fields rather than radiative electromagnetic fields. This characteristic makes it safer for users and reduces potential interference with other electronic devices. Additionally, magnetic fields interact weakly with living organisms, ensuring a safe charging environment.\n",
        "    \n",
        "4. **Scalability:**\n",
        "    \n",
        "    The technology can be scaled to accommodate various device sizes and power requirements. As the number of wirelessly chargeable devices increases, resonant inductive coupling can adapt to charge multiple devices simultaneously, which is particularly important in consumer electronics.\n",
        "    \n",
        "5. **Reduced Mechanical Wear:**\n",
        "    \n",
        "    By eliminating physical connectors and contacts, resonant inductive coupling reduces wear and tear associated with traditional charging methods. This longevity is advantageous for both the devices being charged and the charging equipment itself.\n",
        "    \n",
        "6. **Emerging Technology:**\n",
        "    \n",
        "    As wireless charging technology continues to evolve, resonant inductive coupling has been recognized as a promising solution for future applications, including electric vehicles and smart home devices. Its growing adoption in various industries suggests a strong potential for widespread use in consumer electronics.\n",
        "\n",
        "In conclusion, the selection of resonant inductive coupling as the WPT method aligns perfectly with the project's objectives, offering an efficient, safe, and flexible solution for wireless charging of portable devices. This approach not only meets current technological needs but also positions the project well for future advancements in wireless power technology."
      ],
      "metadata": {
        "id": "JlbpJ8TNwVKs"
      }
    },
    {
      "cell_type": "markdown",
      "source": [
        "![rainbow](https://github.com/ancilcleetus/My-Learning-Journey/assets/25684256/839c3524-2a1d-4779-85a0-83c562e1e5e5)"
      ],
      "metadata": {
        "id": "yMJfC4FQyLIg"
      }
    },
    {
      "cell_type": "markdown",
      "source": [
        "# 4. Electromagnetic Field Regions"
      ],
      "metadata": {
        "id": "GwHKRHDeyLIp"
      }
    },
    {
      "cell_type": "markdown",
      "source": [
        "To understand the concept of near-field and far-field regions in electromagnetic (EM) fields, it is important to recognize how electromagnetic radiation behaves at different distances from a source, such as an antenna or a wireless power transmitter. Here's a detailed explanation of these regions, including their characteristics and a comparison table."
      ],
      "metadata": {
        "id": "f5ZAxUZyyYTO"
      }
    },
    {
      "cell_type": "markdown",
      "source": [
        "## Types of Electromagnetic Field Regions"
      ],
      "metadata": {
        "id": "4n1WMaJf0i9o"
      }
    },
    {
      "cell_type": "markdown",
      "source": [
        "### 1. Near-Field Region"
      ],
      "metadata": {
        "id": "2JRfNeTuyrdY"
      }
    },
    {
      "cell_type": "markdown",
      "source": [
        "**Definition:** The near-field region is the area close to an electromagnetic source where the electric and magnetic fields are strongly coupled and do not behave like free-space radiation.\n",
        "\n",
        "**Characteristics:**\n",
        "\n",
        "- **Distance:** Typically extends from the surface of the antenna or transmitter up to about one wavelength away.\n",
        "    \n",
        "- **Field Behavior:** The fields in this region are dominated by reactive components, meaning they can store energy but do not radiate it away. This is why it is considered non-radiative.\n",
        "    \n",
        "- **Types of Fields:** The near field includes both electric (E) and magnetic (H) fields, which can be either capacitive (electric) or inductive (magnetic) depending on the configuration.\n",
        "    \n",
        "- **Energy Storage:** Energy can be stored in the electric and magnetic fields, making this region useful for applications like resonant inductive coupling where energy transfer occurs without significant loss."
      ],
      "metadata": {
        "id": "VqrLF2Xbzw59"
      }
    },
    {
      "cell_type": "markdown",
      "source": [
        "### 2. Far-Field Region"
      ],
      "metadata": {
        "id": "b2bt4I_Mzeq8"
      }
    },
    {
      "cell_type": "markdown",
      "source": [
        "**Definition:** The far-field region is the area far from the source where electromagnetic waves propagate freely and behave like plane waves.\n",
        "\n",
        "**Characteristics:**\n",
        "\n",
        "- **Distance:** Generally starts at a distance greater than two wavelengths from the source.\n",
        "\n",
        "- **Field Behavior:** In this region, the electric and magnetic fields are decoupled and propagate as transverse waves. The energy radiates away from the source into space.\n",
        "\n",
        "- **Radiative Nature:** This region is characterized by radiative fields, meaning that energy is emitted into space and can be received by distant antennas or devices.\n",
        "\n",
        "- **Power Density:** The intensity of the radiated power decreases with the square of the distance from the source."
      ],
      "metadata": {
        "id": "0bRU2ZTH0H_z"
      }
    },
    {
      "cell_type": "markdown",
      "source": [
        "## Comparison of Near-Field and Far-Field Regions"
      ],
      "metadata": {
        "id": "J_JdWLpZ0pne"
      }
    },
    {
      "cell_type": "markdown",
      "source": [
        "| Feature | Near-Field Region | Far-Field Region |\n",
        "| :----- | :-------- | :------------- |\n",
        "| **Distance from Source** | Up to approximately 1 wavelength | Greater than 2 wavelengths |\n",
        "| **Field Behavior** | Non-radiative; reactive fields | Radiative; propagating as plane waves |\n",
        "| **Energy Transfer** | Energy can be stored; efficient transfer possible | Energy radiates away; less efficient for transfer |\n",
        "| **Field Coupling** | Strong coupling between E and H fields | E and H fields are decoupled |\n",
        "| **Applications** | Wireless power transfer, RFID | Broadcasting, remote sensing |"
      ],
      "metadata": {
        "id": "iwFWwGQh0yXP"
      }
    },
    {
      "cell_type": "markdown",
      "source": [
        "## Why Near-Field Regions are Non-Radiative?"
      ],
      "metadata": {
        "id": "tk5dvGg-2H9K"
      }
    },
    {
      "cell_type": "markdown",
      "source": [
        "In the near-field region, the electromagnetic fields are primarily reactive, meaning they store energy rather than radiate it. This occurs because:\n",
        "\n",
        "- **Electric and Magnetic Field Interaction:** Close to the source, changes in electric fields create corresponding magnetic fields and vice versa. This interaction allows energy to oscillate back and forth between these fields without escaping into space.\n",
        "    \n",
        "- **Energy Storage Capability:** The near-field configuration allows for significant energy storage in capacitive or inductive forms, which can be utilized for applications like wireless charging where energy needs to be transferred without loss."
      ],
      "metadata": {
        "id": "IAL5spAI2Sbh"
      }
    },
    {
      "cell_type": "markdown",
      "source": [
        "## Why Far-Field Regions are Radiative?"
      ],
      "metadata": {
        "id": "LnLK3NK32eiv"
      }
    },
    {
      "cell_type": "markdown",
      "source": [
        "In contrast, in the far-field region:\n",
        "\n",
        "- **Decoupled Fields:** The electric and magnetic fields become independent of each other as they propagate away from the source. They no longer interact in a way that allows for energy storage.\n",
        "    \n",
        "- **Propagation as Waves:** The energy emitted in this region travels as electromagnetic waves that can move through space. This is why signals can be received at great distances without requiring direct contact with the transmitter."
      ],
      "metadata": {
        "id": "mvXstJxL2niD"
      }
    },
    {
      "cell_type": "markdown",
      "source": [
        "In summary, understanding these field regions helps clarify why resonant inductive coupling operates effectively within the near-field region for wireless power transfer while far-field methods are better suited for broadcasting signals over long distances."
      ],
      "metadata": {
        "id": "_-CG2Nsi2y6B"
      }
    },
    {
      "cell_type": "markdown",
      "source": [
        "![rainbow](https://github.com/ancilcleetus/My-Learning-Journey/assets/25684256/839c3524-2a1d-4779-85a0-83c562e1e5e5)"
      ],
      "metadata": {
        "id": "bEfhfFH-5d1k"
      }
    },
    {
      "cell_type": "markdown",
      "source": [
        "# 5. Wireless Power Transfer using Resonant Inductive Coupling"
      ],
      "metadata": {
        "id": "gErIIVjX5d1q"
      }
    },
    {
      "cell_type": "markdown",
      "source": [
        "Wireless Power Transfer (WPT) using **Resonant Inductive Coupling** is an innovative method designed to transmit electrical energy without physical connections, primarily through magnetic fields. This technique enhances traditional inductive coupling by utilizing resonance, which significantly improves efficiency and range for powering devices wirelessly. A key aspect of this method is the role of **Evanescent Waves**, which facilitate energy transfer in the near-field region."
      ],
      "metadata": {
        "id": "ctOBk8ZEA2vo"
      }
    },
    {
      "cell_type": "markdown",
      "source": [
        "## How It Works"
      ],
      "metadata": {
        "id": "p_ipziHBA5U5"
      }
    },
    {
      "cell_type": "markdown",
      "source": [
        "1. **Basic Components:**\n",
        "\n",
        "- **Transmitter Coil:** This coil is connected to an alternating current (AC) power source. When AC flows through the transmitter coil, it generates a changing magnetic field around it.\n",
        "\n",
        "- **Receiver Coil:** Positioned within the magnetic field created by the transmitter, this coil is connected to the device that requires power, such as a smartphone or battery.\n",
        "\n",
        "2. **Resonance Tuning:**\n",
        "\n",
        "- Both the transmitter and receiver coils are equipped with capacitors that allow them to resonate at the same frequency. **This tuning process is crucial because it maximizes the energy transfer between the coils.**\n",
        "    \n",
        "- When both coils resonate at the same frequency, they can efficiently exchange energy over a distance, enhancing the amount of power transferred compared to non-resonant systems.\n",
        "\n",
        "3. **Evanescent Waves and Energy Transfer Mechanism:**\n",
        "\n",
        "- In the near-field region, the electromagnetic fields produced by both coils are primarily **evanescent waves**. These waves decay exponentially with distance and do not carry energy away like radiative waves do.\n",
        "\n",
        "- **The energy transfer occurs through the superposition of evanescent fields generated by both coils.** When these fields overlap, they create a combined field that can effectively convey energy to the receiver coil.\n",
        "\n",
        "- **For efficient energy transfer, the load connected to the receiver coil must be resistive**; this allows energy from the superimposed evanescent fields to be absorbed and utilized.\n",
        "\n",
        "4. **Efficiency and Range:**\n",
        "\n",
        "- The efficiency of resonant inductive coupling can reach up to 95%, making it suitable for applications where efficient power delivery is essential.\n",
        "\n",
        "- This method allows for effective power transfer over distances of several centimeters, making it practical for charging devices that do not need to be perfectly aligned with the charging pad."
      ],
      "metadata": {
        "id": "eDXdZXpdCULl"
      }
    },
    {
      "cell_type": "markdown",
      "source": [
        "## Advantages of Resonant Inductive Coupling"
      ],
      "metadata": {
        "id": "7KU918ZnC2U5"
      }
    },
    {
      "cell_type": "markdown",
      "source": [
        "- **High Efficiency:** By optimizing the resonance of both coils, energy losses are minimized, allowing for efficient power transfer.\n",
        "\n",
        "- **Safety:** The non-radiative nature of near-field coupling means lower exposure to electromagnetic radiation, making it safer for users and surrounding electronics.\n",
        "\n",
        "- **Flexibility in Device Positioning:** Devices can be charged without precise alignment, which enhances user convenience.\n",
        "\n",
        "- **Scalability:** This technology can be adapted for various applications, including electric vehicles and smart home devices, where multiple devices may need charging simultaneously."
      ],
      "metadata": {
        "id": "TGGO-JMVDXuw"
      }
    },
    {
      "cell_type": "markdown",
      "source": [
        "## Applications"
      ],
      "metadata": {
        "id": "CwiAVMwnDoHR"
      }
    },
    {
      "cell_type": "markdown",
      "source": [
        "Resonant inductive coupling is increasingly being used in various fields:\n",
        "\n",
        "- **Consumer Electronics:** Wireless charging stations for smartphones and tablets.\n",
        "\n",
        "- **Electric Vehicles:** Charging systems that allow vehicles to charge while parked over a charging pad.\n",
        "\n",
        "- **Medical Devices:** Powering implants and sensors without needing invasive procedures for battery replacement."
      ],
      "metadata": {
        "id": "YWPwsFv8D0NJ"
      }
    },
    {
      "cell_type": "markdown",
      "source": [
        "![rainbow](https://github.com/ancilcleetus/My-Learning-Journey/assets/25684256/839c3524-2a1d-4779-85a0-83c562e1e5e5)"
      ],
      "metadata": {
        "id": "MG6qShSCEH2z"
      }
    },
    {
      "cell_type": "markdown",
      "source": [
        "# 6. How does the Superposition of Evanescent Fields facilitate energy transfer?"
      ],
      "metadata": {
        "id": "5jwOyn2sEH24"
      }
    },
    {
      "cell_type": "markdown",
      "source": [
        "Evanescent waves play a pivotal role in facilitating energy transfer in wireless power transfer (WPT) systems, particularly those employing resonant inductive coupling. Here's a detailed explanation of how the superposition of evanescent fields contributes to effective energy transfer."
      ],
      "metadata": {
        "id": "8KRst6byFViq"
      }
    },
    {
      "cell_type": "markdown",
      "source": [
        "## Understanding Evanescent Waves"
      ],
      "metadata": {
        "id": "utkpGZnrFYBm"
      }
    },
    {
      "cell_type": "markdown",
      "source": [
        "**Definition:** Evanescent waves are electromagnetic fields that exist in the near-field region of a source, such as a coil carrying alternating current. Unlike propagating waves, which carry energy away from the source, evanescent waves decay exponentially with distance and do not transport energy away from the source."
      ],
      "metadata": {
        "id": "xpXgWgRcFf2v"
      }
    },
    {
      "cell_type": "markdown",
      "source": [
        "## Role of Evanescent Waves in Energy Transfer"
      ],
      "metadata": {
        "id": "SuDD9RTcFjyb"
      }
    },
    {
      "cell_type": "markdown",
      "source": [
        "1. **Formation of Evanescent Fields:**\n",
        "\n",
        "- When an alternating current flows through the transmitter coil, it generates a changing magnetic field. This field creates evanescent waves that extend into the near-field region.\n",
        "\n",
        "- The receiver coil, placed within this region, also generates its own evanescent waves when energized by the magnetic field from the transmitter.\n",
        "\n",
        "2. **Superposition of Evanescent Fields:**\n",
        "\n",
        "- The key to energy transfer lies in the superposition of these evanescent fields. When the evanescent fields from both the transmitter and receiver coils overlap, they create a combined field that enhances energy transfer.\n",
        "    \n",
        "- This overlap allows for efficient coupling between the coils, enabling energy to be transferred without significant losses.\n",
        "\n",
        "3. **Non-Radiative Energy Transfer:**\n",
        "\n",
        "- In contrast to radiative waves that propagate away and can be lost to the environment, evanescent waves are localized and do not carry energy away from the source.\n",
        "    \n",
        "- The lack of net energy flow in any direction means that energy can be effectively transferred between the coils without being radiated away, which is crucial for maintaining high efficiency in WPT systems.\n",
        "\n",
        "4. **Dependence on Load Type:**\n",
        "\n",
        "- For effective power transfer, the load connected to the receiver coil must be resistive. This allows it to absorb energy from the overlapping evanescent fields.\n",
        "    \n",
        "- If the load is capacitive or inductive, it may not effectively utilize the energy conveyed by the evanescent fields, resulting in reduced efficiency.\n",
        "\n",
        "5. **Resonance Conditions:**\n",
        "\n",
        "- Both coils are tuned to resonate at the same frequency. This resonance condition enhances the strength of the evanescent fields and maximizes energy transfer.\n",
        "\n",
        "- At resonance, impedance is minimized, allowing for optimal absorption of power by the receiver coil.\n",
        "\n",
        "6. **Distance and Efficiency:**\n",
        "\n",
        "- Evanescent waves enable power transfer over moderate distances (typically several centimeters), while maintaining high efficiency (up to 95%).\n",
        "\n",
        "- This characteristic makes resonant inductive coupling particularly suitable for applications like wireless charging pads where devices do not need to be perfectly aligned with the charging source."
      ],
      "metadata": {
        "id": "RgsBlHiFFqL-"
      }
    },
    {
      "cell_type": "markdown",
      "source": [
        "![rainbow](https://github.com/ancilcleetus/My-Learning-Journey/assets/25684256/839c3524-2a1d-4779-85a0-83c562e1e5e5)"
      ],
      "metadata": {
        "id": "gxjebkxJGLMl"
      }
    },
    {
      "cell_type": "markdown",
      "source": [
        "# 7. Design of Wireless Power Transfer Demonstrator"
      ],
      "metadata": {
        "id": "v1yEVbqeGLMp"
      }
    },
    {
      "cell_type": "markdown",
      "source": [
        "The design of the Wireless Power Transfer Demonstrator utilizing Resonant Inductive Coupling involves a carefully selected set of components that work together to efficiently transmit power wirelessly. Below is a detailed overview of the circuit schematic and the rationale behind the selection of each component."
      ],
      "metadata": {
        "id": "VfEOLAbjXg6p"
      }
    },
    {
      "cell_type": "code",
      "source": [
        "# Wireless Power Transfer Circuit Schematic\n",
        "\n",
        "from IPython import display\n",
        "display.Image(\"data/images/01-Wireless-Power-Transfer-using-Resonant-Induction/Wireless-Power-Transfer-Circuit-Schematic.png\")"
      ],
      "metadata": {
        "colab": {
          "base_uri": "https://localhost:8080/",
          "height": 297
        },
        "id": "MdhiaXX7KeZV",
        "outputId": "45bee2d2-eb6c-40b4-f1c8-29fd61b8ba03"
      },
      "execution_count": 1,
      "outputs": [
        {
          "output_type": "execute_result",
          "data": {
            "image/png": "[encoded data removed]",
            "text/plain": [
              "<IPython.core.display.Image object>"
            ]
          },
          "metadata": {},
          "execution_count": 1
        }
      ]
    },
    {
      "cell_type": "markdown",
      "source": [
        "## Circuit Overview"
      ],
      "metadata": {
        "id": "-vV-gZ6OXv7n"
      }
    },
    {
      "cell_type": "markdown",
      "source": [
        "The Wireless Power Transfer Demonstrator circuit operates with an input voltage of 12 Volts and employs a Class E Resonant Inverter configuration to facilitate efficient power transfer. The following components are integral to the design:\n",
        "\n",
        "1. **Input Voltage (Vgg, Vdd):**\n",
        "    \n",
        "    - **Value:** 12 Volts\n",
        "        \n",
        "    - **Justification:** This voltage level is suitable for low-power applications like charging small devices, ensuring safety and compatibility with common battery systems.\n",
        "\n",
        "2. **MOSFETs (Q1 and Q2):**\n",
        "    \n",
        "    - **Type:** IRFZ44N\n",
        "    \n",
        "    - **Justification:** These MOSFETs are chosen for their low on-resistance and high current handling capability, making them ideal for switching applications in the resonant inverter. Their fast switching speeds enhance efficiency by minimizing energy losses during operation.\n",
        "\n",
        "3. **Resistor (Rg):**\n",
        "        \n",
        "    - **Value:** 100 ohms, 1 Watt\n",
        "        \n",
        "    - **Justification:** This resistor is used to limit the gate drive current for the MOSFETs, ensuring stable operation and preventing damage from excessive current.\n",
        "\n",
        "4. **Radio Frequency Chokes (RFCs):**\n",
        "        \n",
        "    - **Inductance:** 100 µH (microhenry) using powdered iron cores\n",
        "        \n",
        "    - **Justification:** RFCs are essential for blocking high-frequency noise while allowing DC current to pass through. The powdered iron core provides good magnetic properties, enhancing inductance and performance at radio frequencies.\n",
        "\n",
        "5. **Diodes (D1 & D2):**\n",
        "    \n",
        "    - **Type:** 1N4148\n",
        "        \n",
        "    - **Justification:** These diodes are selected for their fast recovery time and low forward voltage drop, making them suitable for rectification in high-frequency applications.\n",
        "\n",
        "6. **Inductor L (Primary):**\n",
        "    \n",
        "    - **Type:** Copper tube with a diameter of 6mm\n",
        "        \n",
        "    - **Justification:** Copper tubes are used due to their excellent conductivity and ability to create a strong magnetic field when energized. The diameter is chosen to optimize inductance while maintaining manageable physical dimensions.\n",
        "\n",
        "7. **Capacitor C (Primary):**\n",
        "    - **Configuration:** Eight 6.8 nF, 1000V metalized polypropylene capacitors connected in parallel\n",
        "        \n",
        "    - **Equivalent Capacitance:** 54.4 nF\n",
        "    \n",
        "    - **Justification:** Metalized polypropylene capacitors are selected for their stability, low loss, and high voltage rating. The parallel configuration increases capacitance to match the resonant frequency needed for efficient energy transfer.\n",
        "    \n",
        "8. **Inductor L (Secondary):**\n",
        "    \n",
        "    - **Type:** Copper tube with a diameter of 3mm\n",
        "        \n",
        "    - **Justification:** Similar to the primary inductor, this copper tube is chosen for its conductive properties and ability to create a magnetic field conducive to energy transfer.\n",
        "\n",
        "9. **Capacitor C (Secondary):**\n",
        "    \n",
        "    - **Value:** 47 nF, 630V metalized polypropylene capacitor\n",
        "    \n",
        "    - **Justification:** This capacitor is used in conjunction with the secondary inductor to form a resonant circuit that matches the operating frequency, facilitating efficient power transfer to the load.\n",
        "\n",
        "10. **Load at the Secondary:**\n",
        "    \n",
        "    - **Specification:** 12V, 6 Watt bulb\n",
        "    \n",
        "    - **Justification:** The chosen load allows practical demonstration of the system's capabilities. The resistive nature of the bulb ensures that it can effectively utilize the power transferred from the secondary circuit.\n",
        "    \n",
        "11. **Resonant Frequency:**\n",
        "    - **Value:** 1.5 MHz\n",
        "    \n",
        "    - **Justification:** This frequency is selected based on the calculated values of inductance and capacitance used in both primary and secondary circuits, ensuring optimal energy transfer efficiency through resonance."
      ],
      "metadata": {
        "id": "2jldF3XnX98h"
      }
    },
    {
      "cell_type": "markdown",
      "source": [
        "## Design Justifications"
      ],
      "metadata": {
        "id": "QFcNP11ea-Ff"
      }
    },
    {
      "cell_type": "markdown",
      "source": [
        "The selection of these components is critical for achieving efficient wireless power transfer through resonant inductive coupling:\n",
        "\n",
        "- The use of copper tubes for inductors maximizes magnetic field strength due to their excellent conductivity.\n",
        "    \n",
        "- The capacitors are chosen not only for their electrical characteristics but also for their ability to withstand high voltages, ensuring reliability during operation.\n",
        "    \n",
        "- MOSFETs with fast switching capabilities minimize energy losses during operation, enhancing overall system efficiency.\n",
        "    \n",
        "- The resonant frequency of 1.5 MHz ensures that both coils can effectively couple energy without significant losses due to detuning or misalignment."
      ],
      "metadata": {
        "id": "UXUeLROfbJDE"
      }
    },
    {
      "cell_type": "markdown",
      "source": [
        "![rainbow](https://github.com/ancilcleetus/My-Learning-Journey/assets/25684256/839c3524-2a1d-4779-85a0-83c562e1e5e5)"
      ],
      "metadata": {
        "id": "mEYr4IwjbRfh"
      }
    },
    {
      "cell_type": "markdown",
      "source": [
        "# 8. Results"
      ],
      "metadata": {
        "id": "4wKRI1izbRfq"
      }
    },
    {
      "cell_type": "code",
      "source": [
        "# Wireless Power Transfer Demo\n",
        "\n",
        "from IPython import display\n",
        "display.Image(\"data/images/01-Wireless-Power-Transfer-using-Resonant-Induction/Wireless-Power-Transfer-Demo.jpg\")"
      ],
      "metadata": {
        "colab": {
          "base_uri": "https://localhost:8080/",
          "height": 636
        },
        "id": "dgDMyUSjBLsX",
        "outputId": "9e3646f2-7787-45c6-93dc-12a787b32a86"
      },
      "execution_count": null,
      "outputs": [
        {
          "output_type": "execute_result",
          "data": {
            "image/jpeg": "[encoded data removed]",
            "text/plain": [
              "<IPython.core.display.Image object>"
            ]
          },
          "metadata": {},
          "execution_count": 1
        }
      ]
    },
    {
      "cell_type": "markdown",
      "source": [
        "The demonstration of the Wireless Power Transfer system utilizing resonant inductive coupling has been successfully executed, showcasing the practical application of this technology. The key achievement of this project is the ability to **wirelessly transfer power over a distance of 13 centimeters**, effectively **lighting a 6-watt bulb** without any physical connections."
      ],
      "metadata": {
        "id": "Ma_sOjLPcrOg"
      }
    },
    {
      "cell_type": "markdown",
      "source": [
        "## Key Achievements"
      ],
      "metadata": {
        "id": "fjVRQucic81S"
      }
    },
    {
      "cell_type": "markdown",
      "source": [
        "- **Distance Capability:**\n",
        "\n",
        "    The system was able to maintain efficient power transfer at a distance of 13 cm. This distance exceeds typical expectations for inductive coupling systems, demonstrating the effectiveness of the resonant inductive coupling method used in this project.\n",
        "\n",
        "- **Successful Power Transfer:**\n",
        "\n",
        "    The 6-watt bulb lit up brightly, indicating that sufficient power was successfully transmitted from the transmitter coil to the receiver coil. This result confirms that the system can deliver usable power wirelessly, which is a critical requirement for practical applications."
      ],
      "metadata": {
        "id": "DdNLZpZodFP4"
      }
    },
    {
      "cell_type": "markdown",
      "source": [
        "![rainbow](https://github.com/ancilcleetus/My-Learning-Journey/assets/25684256/839c3524-2a1d-4779-85a0-83c562e1e5e5)"
      ],
      "metadata": {
        "id": "jvLUU3y6dXjy"
      }
    },
    {
      "cell_type": "markdown",
      "source": [
        "# 9. Conclusion"
      ],
      "metadata": {
        "id": "Qt44M_JWdXj5"
      }
    },
    {
      "cell_type": "markdown",
      "source": [
        "The successful demonstration not only validates the theoretical principles behind resonant inductive coupling but also highlights its potential for real-world applications, such as wireless charging for various electronic devices. This project lays a solid foundation for future developments in wireless power transfer technologies, paving the way for innovations in consumer electronics, electric vehicles, and other fields where wireless energy transfer can enhance convenience and usability."
      ],
      "metadata": {
        "id": "lIxBYxVmdoEE"
      }
    },
    {
      "cell_type": "markdown",
      "source": [
        "![rainbow](https://github.com/ancilcleetus/My-Learning-Journey/assets/25684256/839c3524-2a1d-4779-85a0-83c562e1e5e5)"
      ],
      "metadata": {
        "id": "gQbqBKMkjgMV"
      }
    },
    {
      "cell_type": "markdown",
      "source": [
        "# 10. References"
      ],
      "metadata": {
        "id": "vusK9Jv1ifq9"
      }
    },
    {
      "cell_type": "markdown",
      "source": [
        "- **[Miniature Wireless Power Demonstrator @ Marko's Science Site](https://markobakula.wordpress.com/wireless-power/miniature-wireless-power-demonstrator/)**\n",
        "\n",
        "- **[Miniature Wireless Power Demonstrator @ 4hv.org](https://4hv.org/e107_plugins/forum/forum_viewtopic.php?p=1&id=74096)**"
      ],
      "metadata": {
        "id": "_b1Yo4T_ifh-"
      }
    },
    {
      "cell_type": "markdown",
      "source": [
        "![rainbow](https://github.com/ancilcleetus/My-Learning-Journey/assets/25684256/839c3524-2a1d-4779-85a0-83c562e1e5e5)"
      ],
      "metadata": {
        "id": "U897-NGnYhHk"
      }
    }
  ]
}