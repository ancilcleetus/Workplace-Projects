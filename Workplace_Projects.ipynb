{
  "nbformat": 4,
  "nbformat_minor": 0,
  "metadata": {
    "colab": {
      "provenance": []
    },
    "kernelspec": {
      "name": "python3",
      "display_name": "Python 3"
    },
    "language_info": {
      "name": "python"
    }
  },
  "cells": [
    {
      "cell_type": "markdown",
      "source": [
        "# Workplace Projects"
      ],
      "metadata": {
        "id": "F6dfM34sf_l1"
      }
    },
    {
      "cell_type": "markdown",
      "source": [
        "![rainbow](https://github.com/ancilcleetus/My-Learning-Journey/assets/25684256/839c3524-2a1d-4779-85a0-83c562e1e5e5)"
      ],
      "metadata": {
        "id": "D0XaQAZ-g549"
      }
    },
    {
      "cell_type": "markdown",
      "source": [
        "# 📖 TABLE OF CONTENTS\n",
        "\n",
        "- [Section 1]()\n",
        "  - [Subsection 1]()\n",
        "    - [Subsubsection 1]()\n",
        "    - [Subsubsection 2]()\n",
        "  - [Subsection 2]()\n",
        "    - [Subsubsection 1]()\n",
        "    - [Subsubsection 2]()\n",
        "- [Section 2]()\n",
        "  - [Subsection 1]()\n",
        "    - [Subsubsection 1]()\n",
        "    - [Subsubsection 2]()\n",
        "  - [Subsection 2]()\n",
        "    - [Subsubsection 1]()\n",
        "    - [Subsubsection 2]()"
      ],
      "metadata": {
        "id": "SIhfEEeuxaVU"
      }
    },
    {
      "cell_type": "markdown",
      "source": [
        "![rainbow](https://github.com/ancilcleetus/My-Learning-Journey/assets/25684256/839c3524-2a1d-4779-85a0-83c562e1e5e5)"
      ],
      "metadata": {
        "id": "uLR90WhedwER"
      }
    },
    {
      "cell_type": "markdown",
      "source": [
        "# 1. Wireless Power Transfer using Resonant Induction"
      ],
      "metadata": {
        "id": "bKim3KwyTp11"
      }
    },
    {
      "cell_type": "markdown",
      "source": [
        "## References"
      ],
      "metadata": {
        "id": "vusK9Jv1ifq9"
      }
    },
    {
      "cell_type": "markdown",
      "source": [
        "- **[Miniature Wireless Power Demonstrator @ Marko's Science Site](https://markobakula.wordpress.com/wireless-power/miniature-wireless-power-demonstrator/)**\n",
        "\n",
        "- **[Miniature Wireless Power Demonstrator @ 4hv.org](https://4hv.org/e107_plugins/forum/forum_viewtopic.php?p=1&id=74096)**"
      ],
      "metadata": {
        "id": "_b1Yo4T_ifh-"
      }
    },
    {
      "cell_type": "markdown",
      "source": [
        "![rainbow](https://github.com/ancilcleetus/My-Learning-Journey/assets/25684256/839c3524-2a1d-4779-85a0-83c562e1e5e5)"
      ],
      "metadata": {
        "id": "U897-NGnYhHk"
      }
    },
    {
      "cell_type": "markdown",
      "source": [
        "Difficulty: ${\\color{green}{Easy}}$\n",
        "Difficulty: ${\\color{orange}{Medium}}$\n",
        "Difficulty: ${\\color{red}{Hard}}$"
      ],
      "metadata": {
        "id": "Pf0qrlJcsUj9"
      }
    },
    {
      "cell_type": "code",
      "source": [
        "# Deep Learning as subset of ML\n",
        "\n",
        "from IPython import display\n",
        "display.Image(\"data/images/ML.jpg\")"
      ],
      "metadata": {
        "id": "juNAxVBFg7sw"
      },
      "execution_count": null,
      "outputs": []
    },
    {
      "cell_type": "markdown",
      "source": [
        "![rainbow](https://github.com/ancilcleetus/My-Learning-Journey/assets/25684256/839c3524-2a1d-4779-85a0-83c562e1e5e5)"
      ],
      "metadata": {
        "id": "qqv0L0R9dyKJ"
      }
    }
  ]
}