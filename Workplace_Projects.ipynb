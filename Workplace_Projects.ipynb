{
  "nbformat": 4,
  "nbformat_minor": 0,
  "metadata": {
    "colab": {
      "provenance": []
    },
    "kernelspec": {
      "name": "python3",
      "display_name": "Python 3"
    },
    "language_info": {
      "name": "python"
    }
  },
  "cells": [
    {
      "cell_type": "markdown",
      "source": [
        "# Workplace Projects"
      ],
      "metadata": {
        "id": "F6dfM34sf_l1"
      }
    },
    {
      "cell_type": "markdown",
      "source": [
        "![rainbow](https://github.com/ancilcleetus/My-Learning-Journey/assets/25684256/839c3524-2a1d-4779-85a0-83c562e1e5e5)"
      ],
      "metadata": {
        "id": "D0XaQAZ-g549"
      }
    },
    {
      "cell_type": "markdown",
      "source": [
        "# 📖 TABLE OF CONTENTS\n",
        "\n",
        "- [Section 1]()\n",
        "  - [Subsection 1]()\n",
        "    - [Subsubsection 1]()\n",
        "    - [Subsubsection 2]()\n",
        "  - [Subsection 2]()\n",
        "    - [Subsubsection 1]()\n",
        "    - [Subsubsection 2]()\n",
        "- [Section 2]()\n",
        "  - [Subsection 1]()\n",
        "    - [Subsubsection 1]()\n",
        "    - [Subsubsection 2]()\n",
        "  - [Subsection 2]()\n",
        "    - [Subsubsection 1]()\n",
        "    - [Subsubsection 2]()"
      ],
      "metadata": {
        "id": "SIhfEEeuxaVU"
      }
    },
    {
      "cell_type": "markdown",
      "source": [
        "![rainbow](https://github.com/ancilcleetus/My-Learning-Journey/assets/25684256/839c3524-2a1d-4779-85a0-83c562e1e5e5)"
      ],
      "metadata": {
        "id": "uqJe38AnDj_4"
      }
    },
    {
      "cell_type": "markdown",
      "source": [
        "# 16. NeuraVisionLLM $\\implies$ Pursuing Mastery in Multiple AI Domains"
      ],
      "metadata": {
        "id": "oOmfktrdDj_6"
      }
    },
    {
      "cell_type": "markdown",
      "source": [
        "![rainbow](https://github.com/ancilcleetus/My-Learning-Journey/assets/25684256/839c3524-2a1d-4779-85a0-83c562e1e5e5)"
      ],
      "metadata": {
        "id": "oVD4F8DqDjt4"
      }
    },
    {
      "cell_type": "markdown",
      "source": [
        "# 15. EmotionScope: Emotion Classifier using CNN $\\implies$ Pursuing Mastery in Multiple AI Domains"
      ],
      "metadata": {
        "id": "QPWA3uNkDjt7"
      }
    },
    {
      "cell_type": "markdown",
      "source": [
        "![rainbow](https://github.com/ancilcleetus/My-Learning-Journey/assets/25684256/839c3524-2a1d-4779-85a0-83c562e1e5e5)"
      ],
      "metadata": {
        "id": "ApRscjPpC572"
      }
    },
    {
      "cell_type": "markdown",
      "source": [
        "# 14. Chicago Cab Fare Predictor using Linear Regression $\\implies$ Pursuing Mastery in Multiple AI Domains"
      ],
      "metadata": {
        "id": "dBr7dE-lC573"
      }
    },
    {
      "cell_type": "markdown",
      "source": [
        "![rainbow](https://github.com/ancilcleetus/My-Learning-Journey/assets/25684256/839c3524-2a1d-4779-85a0-83c562e1e5e5)"
      ],
      "metadata": {
        "id": "UwRSVKJrC5tX"
      }
    },
    {
      "cell_type": "markdown",
      "source": [
        "# 13. PluxAI - Face Recognition based Attendance Platform $\\implies$ SecqurAIse Technologies Private Limited"
      ],
      "metadata": {
        "id": "hmpv3iIdC5tb"
      }
    },
    {
      "cell_type": "markdown",
      "source": [
        "![rainbow](https://github.com/ancilcleetus/My-Learning-Journey/assets/25684256/839c3524-2a1d-4779-85a0-83c562e1e5e5)"
      ],
      "metadata": {
        "id": "oIBeLGQWC5fX"
      }
    },
    {
      "cell_type": "markdown",
      "source": [
        "# 12. Gate Keeper - Vehicle Fleet Surveillance Platform $\\implies$ SecqurAIse Technologies Private Limited"
      ],
      "metadata": {
        "id": "TJ9ERHjEC5fY"
      }
    },
    {
      "cell_type": "markdown",
      "source": [
        "![rainbow](https://github.com/ancilcleetus/My-Learning-Journey/assets/25684256/839c3524-2a1d-4779-85a0-83c562e1e5e5)"
      ],
      "metadata": {
        "id": "X9UKoR5OC5Rm"
      }
    },
    {
      "cell_type": "markdown",
      "source": [
        "# 11. Parking Monk - Automatic Number Plate Recognition & Parking Assistance Platform $\\implies$ SecqurAIse Technologies Private Limited"
      ],
      "metadata": {
        "id": "rg8qKRoyC5Ro"
      }
    },
    {
      "cell_type": "markdown",
      "source": [
        "![rainbow](https://github.com/ancilcleetus/My-Learning-Journey/assets/25684256/839c3524-2a1d-4779-85a0-83c562e1e5e5)"
      ],
      "metadata": {
        "id": "19jvLoACC5C4"
      }
    },
    {
      "cell_type": "markdown",
      "source": [
        "# 10. AI based Hand Sanitization Detector $\\implies$ SecqurAIse Technologies Private Limited"
      ],
      "metadata": {
        "id": "M_Gz0nPrC5C6"
      }
    },
    {
      "cell_type": "markdown",
      "source": [
        "![rainbow](https://github.com/ancilcleetus/My-Learning-Journey/assets/25684256/839c3524-2a1d-4779-85a0-83c562e1e5e5)"
      ],
      "metadata": {
        "id": "ToGYzYZAC40q"
      }
    },
    {
      "cell_type": "markdown",
      "source": [
        "# 9. AI based Workout Classifier $\\implies$ SecqurAIse Technologies Private Limited"
      ],
      "metadata": {
        "id": "UDGHnlP-C40s"
      }
    },
    {
      "cell_type": "markdown",
      "source": [
        "![rainbow](https://github.com/ancilcleetus/My-Learning-Journey/assets/25684256/839c3524-2a1d-4779-85a0-83c562e1e5e5)"
      ],
      "metadata": {
        "id": "zEgjbfTAC4ho"
      }
    },
    {
      "cell_type": "markdown",
      "source": [
        "# 8. AI based Income and Expense Manager $\\implies$ SecqurAIse Technologies Private Limited"
      ],
      "metadata": {
        "id": "2u6sVUoGC4hz"
      }
    },
    {
      "cell_type": "markdown",
      "source": [
        "![rainbow](https://github.com/ancilcleetus/My-Learning-Journey/assets/25684256/839c3524-2a1d-4779-85a0-83c562e1e5e5)"
      ],
      "metadata": {
        "id": "g2yul43PCdmn"
      }
    },
    {
      "cell_type": "markdown",
      "source": [
        "# 7. AI based Presentation Slides Generation $\\implies$ SecqurAIse Technologies Private Limited"
      ],
      "metadata": {
        "id": "GhECUl1CCdmx"
      }
    },
    {
      "cell_type": "markdown",
      "source": [
        "![rainbow](https://github.com/ancilcleetus/My-Learning-Journey/assets/25684256/839c3524-2a1d-4779-85a0-83c562e1e5e5)"
      ],
      "metadata": {
        "id": "xQ3D2y70B3dm"
      }
    },
    {
      "cell_type": "markdown",
      "source": [
        "# 6. Acoustic Vector Sensor $\\implies$ ATWIC R&D Pvt Ltd"
      ],
      "metadata": {
        "id": "0ozUoCfuB3dq"
      }
    },
    {
      "cell_type": "markdown",
      "source": [
        "![rainbow](https://github.com/ancilcleetus/My-Learning-Journey/assets/25684256/839c3524-2a1d-4779-85a0-83c562e1e5e5)"
      ],
      "metadata": {
        "id": "TGQh_r2fB3JU"
      }
    },
    {
      "cell_type": "markdown",
      "source": [
        "# 5. DisplayPort to MIPI Panel Solution $\\implies$ Ignitarium Technology Solutions Pvt Ltd"
      ],
      "metadata": {
        "id": "MKnx8i0jB3JW"
      }
    },
    {
      "cell_type": "markdown",
      "source": [
        "![rainbow](https://github.com/ancilcleetus/My-Learning-Journey/assets/25684256/839c3524-2a1d-4779-85a0-83c562e1e5e5)"
      ],
      "metadata": {
        "id": "entIZz3sB2xF"
      }
    },
    {
      "cell_type": "markdown",
      "source": [
        "# 4. Display Stream Compression IP $\\implies$ Ignitarium Technology Solutions Pvt Ltd"
      ],
      "metadata": {
        "id": "I8gbWd6kB2xH"
      }
    },
    {
      "cell_type": "markdown",
      "source": [
        "![rainbow](https://github.com/ancilcleetus/My-Learning-Journey/assets/25684256/839c3524-2a1d-4779-85a0-83c562e1e5e5)"
      ],
      "metadata": {
        "id": "VAQws41AB2Hn"
      }
    },
    {
      "cell_type": "markdown",
      "source": [
        "# 3. Simulation of QD-IBSCs to identify structures that yield optimum efficiencies $\\implies$ M.Tech Project"
      ],
      "metadata": {
        "id": "lIL7QbYbB2Hr"
      }
    },
    {
      "cell_type": "markdown",
      "source": [
        "![rainbow](https://github.com/ancilcleetus/My-Learning-Journey/assets/25684256/839c3524-2a1d-4779-85a0-83c562e1e5e5)"
      ],
      "metadata": {
        "id": "uLR90WhedwER"
      }
    },
    {
      "cell_type": "markdown",
      "source": [
        "# 2. Resistance Temperature Detector (RTD) Data Logger $\\implies$ ATWIC R&D Pvt Ltd"
      ],
      "metadata": {
        "id": "9YC86yUGBoIE"
      }
    },
    {
      "cell_type": "markdown",
      "source": [
        "![rainbow](https://github.com/ancilcleetus/My-Learning-Journey/assets/25684256/839c3524-2a1d-4779-85a0-83c562e1e5e5)"
      ],
      "metadata": {
        "id": "SrvW4d7PBo-j"
      }
    },
    {
      "cell_type": "markdown",
      "source": [
        "# 1. Wireless Power Transfer using Resonant Induction $\\implies$ B.Tech Final Project"
      ],
      "metadata": {
        "id": "bKim3KwyTp11"
      }
    },
    {
      "cell_type": "markdown",
      "source": [
        "**Objective:** Implementation of a non-radiative wireless power transfer method that can be extended for wireless charging of portable devices like mobile phones, MP3 players etc.\n",
        "\n",
        "**Role:** Hardware Design, **Development Team Size:** 1\n",
        "\n",
        "**Tools:** LTSpice IV, Eagle CAD\n",
        "\n",
        "**Challenges:**\n",
        "1. Selection of frequencies for creating resonance\n",
        "2. Selection of special capacitors\n",
        "\n",
        "**Outcome:** Demonstrated wireless power transfer successfully over a range of 13 cm by lighting a bulb of 6W"
      ],
      "metadata": {
        "id": "9zXSn5Xv_4mu"
      }
    },
    {
      "cell_type": "code",
      "source": [
        "# Wireless Power Transfer Demo\n",
        "\n",
        "from IPython import display\n",
        "display.Image(\"data/images/01-Wireless-Power-Transfer-using-Resonant-Induction/Wireless-Power-Transfer-Demo.jpg\")"
      ],
      "metadata": {
        "colab": {
          "base_uri": "https://localhost:8080/",
          "height": 636
        },
        "id": "dgDMyUSjBLsX",
        "outputId": "9e3646f2-7787-45c6-93dc-12a787b32a86"
      },
      "execution_count": 1,
      "outputs": [
        {
          "output_type": "execute_result",
          "data": {
            "image/jpeg": "[encoded data removed]",
            "text/plain": [
              "<IPython.core.display.Image object>"
            ]
          },
          "metadata": {},
          "execution_count": 1
        }
      ]
    },
    {
      "cell_type": "markdown",
      "source": [
        "## References"
      ],
      "metadata": {
        "id": "vusK9Jv1ifq9"
      }
    },
    {
      "cell_type": "markdown",
      "source": [
        "- **[Miniature Wireless Power Demonstrator @ Marko's Science Site](https://markobakula.wordpress.com/wireless-power/miniature-wireless-power-demonstrator/)**\n",
        "\n",
        "- **[Miniature Wireless Power Demonstrator @ 4hv.org](https://4hv.org/e107_plugins/forum/forum_viewtopic.php?p=1&id=74096)**"
      ],
      "metadata": {
        "id": "_b1Yo4T_ifh-"
      }
    },
    {
      "cell_type": "markdown",
      "source": [
        "![rainbow](https://github.com/ancilcleetus/My-Learning-Journey/assets/25684256/839c3524-2a1d-4779-85a0-83c562e1e5e5)"
      ],
      "metadata": {
        "id": "U897-NGnYhHk"
      }
    },
    {
      "cell_type": "markdown",
      "source": [
        "Difficulty: ${\\color{green}{Easy}}$\n",
        "Difficulty: ${\\color{orange}{Medium}}$\n",
        "Difficulty: ${\\color{red}{Hard}}$"
      ],
      "metadata": {
        "id": "Pf0qrlJcsUj9"
      }
    },
    {
      "cell_type": "code",
      "source": [
        "# Deep Learning as subset of ML\n",
        "\n",
        "from IPython import display\n",
        "display.Image(\"data/images/ML.jpg\")"
      ],
      "metadata": {
        "id": "juNAxVBFg7sw"
      },
      "execution_count": null,
      "outputs": []
    },
    {
      "cell_type": "markdown",
      "source": [
        "![rainbow](https://github.com/ancilcleetus/My-Learning-Journey/assets/25684256/839c3524-2a1d-4779-85a0-83c562e1e5e5)"
      ],
      "metadata": {
        "id": "qqv0L0R9dyKJ"
      }
    }
  ]
}